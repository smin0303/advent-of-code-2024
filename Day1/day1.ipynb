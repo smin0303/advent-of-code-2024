{
 "cells": [
  {
   "cell_type": "code",
   "execution_count": 1,
   "metadata": {},
   "outputs": [],
   "source": [
    "import numpy as np\n",
    "import pandas as pd"
   ]
  },
  {
   "cell_type": "code",
   "execution_count": null,
   "metadata": {},
   "outputs": [],
   "source": [
    "df = pd.read_csv('input.txt', sep=\"   \", header=None)"
   ]
  },
  {
   "cell_type": "markdown",
   "metadata": {},
   "source": [
    "# Part 1"
   ]
  },
  {
   "cell_type": "code",
   "execution_count": 85,
   "metadata": {},
   "outputs": [
    {
     "name": "stdout",
     "output_type": "stream",
     "text": [
      "2264607\n"
     ]
    }
   ],
   "source": [
    "for col in df:\n",
    "    df[col] = df[col].sort_values(ignore_index=True)\n",
    "\n",
    "df.rename(columns={0: 'a', 1: 'b'}, inplace=True)\n",
    "\n",
    "df['c'] = abs(df['a'] - df['b'])\n",
    "\n",
    "answer1 = df['c'].sum(axis=0)\n",
    "print(answer1)"
   ]
  },
  {
   "cell_type": "markdown",
   "metadata": {},
   "source": [
    "# Part 2"
   ]
  },
  {
   "cell_type": "code",
   "execution_count": 86,
   "metadata": {},
   "outputs": [
    {
     "name": "stdout",
     "output_type": "stream",
     "text": [
      "19457120.0\n"
     ]
    }
   ],
   "source": [
    "right_unique, right_count = np.unique(df['b'], return_counts=True)\n",
    "count = np.asarray((right_unique, right_count))\n",
    "\n",
    "df2 = pd.DataFrame(count).transpose()\n",
    "df2.rename({0:'a', 1:'r_count'}, axis=1, inplace=True)\n",
    "\n",
    "similarity = df.join(df2.set_index('a'), on='a', lsuffix='_left', rsuffix='_right')\n",
    "\n",
    "answer2 = np.sum(similarity['a'] * similarity['r_count'])\n",
    "print(answer2)"
   ]
  }
 ],
 "metadata": {
  "kernelspec": {
   "display_name": "Python 3",
   "language": "python",
   "name": "python3"
  },
  "language_info": {
   "codemirror_mode": {
    "name": "ipython",
    "version": 3
   },
   "file_extension": ".py",
   "mimetype": "text/x-python",
   "name": "python",
   "nbconvert_exporter": "python",
   "pygments_lexer": "ipython3",
   "version": "3.11.4"
  }
 },
 "nbformat": 4,
 "nbformat_minor": 2
}
