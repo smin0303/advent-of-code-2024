{
 "cells": [
  {
   "cell_type": "code",
   "execution_count": 11,
   "metadata": {},
   "outputs": [],
   "source": [
    "import numpy as np"
   ]
  },
  {
   "cell_type": "markdown",
   "metadata": {},
   "source": [
    "# Part 1"
   ]
  },
  {
   "cell_type": "code",
   "execution_count": 35,
   "metadata": {},
   "outputs": [
    {
     "name": "stdout",
     "output_type": "stream",
     "text": [
      "321\n"
     ]
    }
   ],
   "source": [
    "def is_inc_or_dec(lst):\n",
    "    arr = np.array(lst)\n",
    "    diff = np.diff(arr)\n",
    "    abs_diff = abs(diff)\n",
    "    is_increasing = np.all(diff > 0)\n",
    "    is_decreasing = np.all(diff < 0)\n",
    "    diff_diff1 = np.all(abs_diff >= 1)\n",
    "    diff_diff3 = np.all(abs_diff <= 3)\n",
    "\n",
    "    return is_increasing, is_decreasing, diff_diff1, diff_diff3\n",
    "\n",
    "safe = 0\n",
    "\n",
    "with open('input.txt', 'r') as file:\n",
    "    for line in file:\n",
    "        level = list(map(int, line.strip().split(sep=' ')))\n",
    "\n",
    "        inc, dec, diff1, diff3 = is_inc_or_dec(level)\n",
    "\n",
    "        if (inc or dec) and diff1 and diff3:\n",
    "            safe += 1\n",
    "\n",
    "print(safe)   "
   ]
  },
  {
   "cell_type": "markdown",
   "metadata": {},
   "source": [
    "# Part 2"
   ]
  },
  {
   "cell_type": "code",
   "execution_count": 59,
   "metadata": {},
   "outputs": [
    {
     "name": "stdout",
     "output_type": "stream",
     "text": [
      "386\n"
     ]
    }
   ],
   "source": [
    "safe2 = 0\n",
    "\n",
    "def pos_and_neg(lst):\n",
    "    pos = 0\n",
    "    neg = 0\n",
    "    for i in lst:\n",
    "        if i > 0:\n",
    "            pos += 1\n",
    "        else:\n",
    "            neg += 1\n",
    "\n",
    "    if pos >= neg and neg == 1:\n",
    "        return True\n",
    "    elif neg >= pos and pos == 1:\n",
    "        return True\n",
    "    else:\n",
    "        return False\n",
    "\n",
    "def gt_and_lt(lst):\n",
    "    wrong = 0\n",
    "    wrong_lst = []\n",
    "    for i in range(len(lst)):\n",
    "        if lst[i] < 1:\n",
    "            wrong += 1\n",
    "            wrong_lst.append(i)\n",
    "        if lst[i] > 3:\n",
    "            wrong += 1\n",
    "            wrong_lst.append(i)\n",
    "    return wrong, wrong_lst\n",
    "\n",
    "def damper(lst):\n",
    "    take_one_out = []\n",
    "    for i in range(len(lst) - 1):\n",
    "        take_one_out.append(lst[:i] + lst[i+1:])\n",
    "    take_one_out.append(lst[:-1])\n",
    "    return take_one_out\n",
    "\n",
    "\n",
    "with open('input.txt', 'r') as file:\n",
    "    for line in file:\n",
    "        level = list(map(int, line.strip().split(sep=' ')))\n",
    "\n",
    "        inc, dec, diff1, diff3 = is_inc_or_dec(level)\n",
    "\n",
    "        if (inc or dec) and diff1 and diff3:\n",
    "            safe2 += 1\n",
    "        else:\n",
    "            take_one_out = damper(level)\n",
    "            for lst in take_one_out:\n",
    "                inc, dec, diff1, diff3 = is_inc_or_dec(lst)\n",
    "                if (inc or dec) and diff1 and diff3:\n",
    "                    safe2 += 1\n",
    "                    break\n",
    "\n",
    "        \n",
    "print(safe2)   "
   ]
  }
 ],
 "metadata": {
  "kernelspec": {
   "display_name": "Python 3",
   "language": "python",
   "name": "python3"
  },
  "language_info": {
   "codemirror_mode": {
    "name": "ipython",
    "version": 3
   },
   "file_extension": ".py",
   "mimetype": "text/x-python",
   "name": "python",
   "nbconvert_exporter": "python",
   "pygments_lexer": "ipython3",
   "version": "3.11.4"
  }
 },
 "nbformat": 4,
 "nbformat_minor": 2
}
